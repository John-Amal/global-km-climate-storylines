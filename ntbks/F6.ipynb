{
 "cells": [
  {
   "cell_type": "markdown",
   "id": "78a5536a-cc0e-4164-9cd5-82d283239e40",
   "metadata": {},
   "source": [
    "<div style=\"border: 2px solid #FF69B4; background-color: #000000; color: white; padding: 20px; border-radius: 5px;\">\n",
    "\n",
    "# Figure 6\n",
    "\n",
    "Portrait diagrams\n",
    "\n",
    "---\n",
    "\n",
    " ##### Temperature & Precipitation Indices\n",
    "---\n",
    "\n",
    "</div>"
   ]
  },
  {
   "cell_type": "code",
   "execution_count": 1,
   "id": "1982baee-2a96-4052-b359-1d22c57e5df9",
   "metadata": {},
   "outputs": [],
   "source": [
    "import numpy as np\n",
    "import pandas as pd\n",
    "import xarray as xr\n",
    "import seaborn as sns\n",
    "\n",
    "import matplotlib.pyplot as plt\n",
    "from matplotlib.patches import Polygon\n",
    "from matplotlib.collections import PatchCollection\n",
    "from matplotlib.colors import BoundaryNorm\n",
    "import matplotlib.colors as mcolors\n",
    "import matplotlib.patches as mpl_patches  # Correct import alias"
   ]
  },
  {
   "cell_type": "code",
   "execution_count": 2,
   "id": "8e2248f6-6345-457a-976f-b22d6ff5d702",
   "metadata": {},
   "outputs": [],
   "source": [
    "plotpath = '/work/ab0995/a270229/work/data/paper1/story-nudged/plot/ppr_REV/'"
   ]
  },
  {
   "cell_type": "code",
   "execution_count": 3,
   "id": "3387cca4-998e-409b-a598-1b9c50d0c410",
   "metadata": {},
   "outputs": [],
   "source": [
    "# Function to find variable with time, lat, and lon\n",
    "def find_variable(ds):\n",
    "    for var in ds.variables:\n",
    "        if {'time', 'lat', 'lon'}.issubset(ds[var].dims):\n",
    "            return var\n",
    "    return None"
   ]
  },
  {
   "cell_type": "code",
   "execution_count": 4,
   "id": "5882562a-0ab4-4678-a184-4feb896ccf10",
   "metadata": {},
   "outputs": [],
   "source": [
    "indices = [\"sdii\", \"rx1day\", \"rr1\", \"rr10\", \"cdd\", \"cwd\", \"fd\", \"tr\", \"txn\", \"txx\", \"tnn\", \"tnx\"]\n",
    "regions = [ \"SHL\", \"SML\", \"TRP\", \"NML\", \"NHL\", \"GLB\"]\n",
    "\n",
    "num_regions = len(regions)\n",
    "num_indices = len(indices)"
   ]
  },
  {
   "cell_type": "markdown",
   "id": "c850af27-d5bd-4b3d-a881-0cce4bfc29c9",
   "metadata": {},
   "source": [
    "# RE"
   ]
  },
  {
   "cell_type": "code",
   "execution_count": 5,
   "id": "54a30d65-2611-40b7-b95f-5311e43c67c1",
   "metadata": {},
   "outputs": [],
   "source": [
    "# Paths to data\n",
    "ptop = \"/work/ab0995/a270229/work/data/paper1/story-nudged/data/full_data/hist/processd/etccdi/rdiff/\"\n",
    "pbot = \"/work/ab0995/a270229/work/data/paper1/story-nudged/data/full_data/AWICM1/etccdi/rdiff/\"\n",
    "\n",
    "data_top_re = np.full((num_regions, num_indices), np.nan)  # Initialize with NaNs\n",
    "data_bot_re = np.full((num_regions, num_indices), np.nan)  # Initialize with NaNs"
   ]
  },
  {
   "cell_type": "code",
   "execution_count": 6,
   "id": "2f5eb24d-38ba-4642-856f-0620fa269b3d",
   "metadata": {
    "scrolled": true
   },
   "outputs": [
    {
     "name": "stdout",
     "output_type": "stream",
     "text": [
      "SHL sdii [[[0.97161037]]] [[[7.957223]]]\n",
      "SHL rx1day [[[3.2925355]]] [[[-0.6709723]]]\n"
     ]
    },
    {
     "name": "stderr",
     "output_type": "stream",
     "text": [
      "/home/a/a270229/.conda/envs/mypython/lib/python3.10/site-packages/xarray/coding/times.py:170: SerializationWarning: Ambiguous reference date string: 1-1-1 00:00:00. The first value is assumed to be the year hence will be padded with zeros to remove the ambiguity (the padded reference date string is: 0001-1-1 00:00:00). To remove this message, remove the ambiguity by padding your reference date strings with zeros.\n",
      "  warnings.warn(warning_msg, SerializationWarning)\n",
      "/home/a/a270229/.conda/envs/mypython/lib/python3.10/site-packages/xarray/coding/times.py:170: SerializationWarning: Ambiguous reference date string: 0-0-64 00:00:00. The first value is assumed to be the year hence will be padded with zeros to remove the ambiguity (the padded reference date string is: 0000-0-64 00:00:00). To remove this message, remove the ambiguity by padding your reference date strings with zeros.\n",
      "  warnings.warn(warning_msg, SerializationWarning)\n"
     ]
    },
    {
     "name": "stdout",
     "output_type": "stream",
     "text": [
      "SHL rr1 [[[4.0958347]]] [[[-12.396864]]]\n",
      "SHL rr10 [[[5.3009977]]] [[[3.0275972]]]\n",
      "SHL cdd [[[-2.6902108]]] [[[7.6204867]]]\n",
      "SHL cwd [[[1.3359427]]] [[[-18.443943]]]\n",
      "SHL fd [[[[-7.523897]]]] [[[4.199768]]]\n",
      "SHL tr [[[[nan]]]] [[[nan]]]\n",
      "SHL txn [[[[0.17409354]]]] [[[-1.0433614]]]\n",
      "SHL txx [[[[0.18501583]]]] [[[-0.8308743]]]\n",
      "SHL tnn [[[[0.32793167]]]] [[[-0.8827107]]]\n",
      "SHL tnx [[[[0.36274442]]]] [[[-0.60878515]]]\n",
      "SML sdii [[[5.004448]]] [[[5.9498615]]]\n",
      "SML rx1day [[[2.5450175]]] [[[-2.745234]]]\n",
      "SML rr1 [[[-4.221614]]] [[[-12.169138]]]\n",
      "SML rr10 [[[-0.7534853]]] [[[2.5389867]]]\n",
      "SML cdd [[[3.1481903]]] [[[14.158538]]]\n",
      "SML cwd [[[-6.618415]]] [[[-19.98059]]]\n",
      "SML fd [[[[-32.694145]]]] [[[97.344505]]]\n",
      "SML tr [[[[-20.269094]]]] [[[93.430016]]]\n",
      "SML txn [[[[-0.06284527]]]] [[[-0.06093921]]]\n",
      "SML txx [[[[-0.11441126]]]] [[[-0.22895455]]]\n",
      "SML tnn [[[[-0.02938469]]]] [[[-0.04077062]]]\n",
      "SML tnx [[[[-0.04621736]]]] [[[0.00423659]]]\n",
      "TRP sdii [[[8.168559]]] [[[18.072954]]]\n",
      "TRP rx1day [[[-6.624941]]] [[[-31.104225]]]\n",
      "TRP rr1 [[[-3.9038732]]] [[[-13.099297]]]\n",
      "TRP rr10 [[[16.678377]]] [[[30.06126]]]\n",
      "TRP cdd [[[6.645459]]] [[[24.53454]]]\n",
      "TRP cwd [[[-1.8147498]]] [[[2.7214093]]]\n",
      "TRP fd [[[[1.4696496]]]] [[[-19.19396]]]\n",
      "TRP tr [[[[-2.5293279]]]] [[[2.0142047]]]\n",
      "TRP txn [[[[-0.06004618]]]] [[[0.02142864]]]\n",
      "TRP txx [[[[0.00275105]]]] [[[0.02941317]]]\n",
      "TRP tnn [[[[-0.1235223]]]] [[[0.2952692]]]\n",
      "TRP tnx [[[[-0.04312351]]]] [[[0.2626674]]]\n",
      "NML sdii [[[5.3173614]]] [[[5.6851482]]]\n",
      "NML rx1day [[[4.9304256]]] [[[-6.73351]]]\n",
      "NML rr1 [[[-4.7161007]]] [[[-9.673582]]]\n",
      "NML rr10 [[[0.932138]]] [[[-0.14560847]]]\n",
      "NML cdd [[[4.0179243]]] [[[12.339501]]]\n",
      "NML cwd [[[-5.8707485]]] [[[-10.953889]]]\n",
      "NML fd [[[[4.738003]]]] [[[-11.873703]]]\n",
      "NML tr [[[[-13.624555]]]] [[[31.26716]]]\n",
      "NML txn [[[[-0.08708816]]]] [[[-0.04291335]]]\n",
      "NML txx [[[[-0.09356625]]]] [[[-0.1901043]]]\n",
      "NML tnn [[[[0.02942905]]]] [[[0.23470542]]]\n",
      "NML tnx [[[[0.02405966]]]] [[[0.23713732]]]\n",
      "NHL sdii [[[-0.09519932]]] [[[6.9983425]]]\n",
      "NHL rx1day [[[-1.4686043]]] [[[4.0713234]]]\n",
      "NHL rr1 [[[-7.724659]]] [[[-4.455308]]]\n",
      "NHL rr10 [[[-5.4887185]]] [[[9.167483]]]\n",
      "NHL cdd [[[5.2684503]]] [[[2.3492553]]]\n",
      "NHL cwd [[[-8.736672]]] [[[-6.17005]]]\n",
      "NHL fd [[[[6.2614455]]]] [[[22.811062]]]\n",
      "NHL tr [[[[-12.5804]]]] [[[2450.941]]]\n",
      "NHL txn [[[[-0.40815383]]]] [[[-0.63301486]]]\n",
      "NHL txx [[[[-0.34716284]]]] [[[-0.44774166]]]\n",
      "NHL tnn [[[[-0.2355472]]]] [[[-0.65197563]]]\n",
      "NHL tnx [[[[-0.24399874]]]] [[[-0.14940174]]]\n",
      "GLB sdii [[[6.495878]]] [[[11.355085]]]\n",
      "GLB rx1day [[[-2.396442]]] [[[-19.92341]]]\n",
      "GLB rr1 [[[-3.8528283]]] [[[-11.911075]]]\n",
      "GLB rr10 [[[10.501444]]] [[[19.475643]]]\n",
      "GLB cdd [[[4.927145]]] [[[18.186443]]]\n",
      "GLB cwd [[[-3.573884]]] [[[-5.50932]]]\n",
      "GLB fd [[[[-0.27721754]]]] [[[6.4392395]]]\n",
      "GLB tr [[[[-1.8969942]]]] [[[3.7365615]]]\n",
      "GLB txn [[[[-0.07118008]]]] [[[-0.10706304]]]\n",
      "GLB txx [[[[-0.04610246]]]] [[[-0.1389072]]]\n",
      "GLB tnn [[[[-0.05759233]]]] [[[0.09779283]]]\n",
      "GLB tnx [[[[-0.01842207]]]] [[[0.13344988]]]\n",
      "CPU times: user 2.13 s, sys: 540 ms, total: 2.67 s\n",
      "Wall time: 13.3 s\n"
     ]
    }
   ],
   "source": [
    "%%time\n",
    "\n",
    "for i, region in enumerate(regions):\n",
    "    for j, index in enumerate(indices):\n",
    "        ftop = f\"{ptop}RE_fld1_{index}_{region}.nc\"\n",
    "        fbot = f\"{pbot}RE_fld1_{index}_{region}.nc\"\n",
    "        \n",
    "        try:\n",
    "            ftop_ds = xr.open_dataset(ftop, decode_times=False)\n",
    "            fbot_ds = xr.open_dataset(fbot, decode_times=False)\n",
    "            \n",
    "            topvar = find_variable(ftop_ds)\n",
    "            botvar = find_variable(fbot_ds)\n",
    "\n",
    "            if topvar and botvar:\n",
    "                dttp = ftop_ds[topvar].values\n",
    "                dtbt = fbot_ds[botvar].values\n",
    "\n",
    "                print(region, index, dttp, dtbt)\n",
    "                data_top_re[i, j] = dttp/100\n",
    "                data_bot_re[i, j] = dtbt/100\n",
    "\n",
    "            else:\n",
    "                print(f\"No matching variable found for {index} in {region}\")\n",
    "        except Exception as e:\n",
    "            print(f\"Error processing {index} in {region}: {e}\")"
   ]
  },
  {
   "cell_type": "markdown",
   "id": "284cf0b9-4652-4b90-aee3-865bf88c7ead",
   "metadata": {},
   "source": [
    "# RMSE"
   ]
  },
  {
   "cell_type": "code",
   "execution_count": 7,
   "id": "196a0ad7-e44a-4126-a936-8d6f66ec8e16",
   "metadata": {},
   "outputs": [],
   "source": [
    "def compute_weighted_rmse_at_each_grid_point_fromdiff(diff: xr.DataArray):\n",
    "    \"\"\"\n",
    "    Compute the area-weighted RMSE at each grid point (lat, lon) across time using the given difference.\n",
    "\n",
    "    Parameters:\n",
    "        diff (xarray.DataArray): Difference between observation and model data with dimensions (lat, lon, time)\n",
    "\n",
    "    Returns:\n",
    "        xarray.DataArray: RMSE values for each grid point (lat, lon)\n",
    "    \"\"\"\n",
    "    # Compute latitude weights\n",
    "    lat = diff['lat']\n",
    "    lat_weights = np.cos(np.deg2rad(lat))  # Cosine weighting\n",
    "    lat_weights = lat_weights / lat_weights.sum()  # Normalize to sum to 1\n",
    "\n",
    "    # Convert lat_weights to an xarray DataArray for broadcasting\n",
    "    lat_weights = xr.DataArray(lat_weights, coords=[lat], dims=[\"lat\"])\n",
    "\n",
    "    # Compute squared differences (which is already `diff` squared)\n",
    "    diff_sq = diff ** 2\n",
    "\n",
    "    # Apply weights to squared differences, sum over the time dimension, and compute the weighted MSE for each grid point\n",
    "    weighted_mse = (diff_sq * lat_weights).sum(dim=\"time\") / lat_weights.sum()\n",
    "\n",
    "    # Compute RMSE by taking the square root\n",
    "    rmse_at_grid_points = np.sqrt(weighted_mse)\n",
    "\n",
    "    return rmse_at_grid_points"
   ]
  },
  {
   "cell_type": "code",
   "execution_count": 8,
   "id": "02b8d731-df73-40b7-b51c-7e1ec20695e5",
   "metadata": {},
   "outputs": [],
   "source": [
    "def compute_spatially_averaged_rmse(diff: xr.DataArray):\n",
    "    \"\"\"\n",
    "    Compute a *true* spatially averaged RMSE with latitude-area weighting.\n",
    "    \n",
    "    Parameters:\n",
    "        diff (xarray.DataArray): Model minus observation differences (lat, lon, time).\n",
    "        \n",
    "    Returns:\n",
    "        float: Spatially averaged RMSE.\n",
    "    \"\"\"\n",
    "    # 1. Latitude weights (proportional to grid cell area)\n",
    "    lat_weights = np.cos(np.deg2rad(diff['lat']))\n",
    "    lat_weights = lat_weights / lat_weights.sum()  # Normalized to sum=1\n",
    "    \n",
    "    # 2. Expand weights to match diff dimensions (lat, lon, time)\n",
    "    weights = lat_weights.broadcast_like(diff)\n",
    "    \n",
    "    # 3. Compute weighted mean of squared differences over space and time\n",
    "    weighted_mean_sq = (diff**2 * weights).mean(dim=(\"lat\", \"lon\", \"time\"))\n",
    "    \n",
    "    # 4. Final RMSE\n",
    "    return np.sqrt(weighted_mean_sq)\n"
   ]
  },
  {
   "cell_type": "code",
   "execution_count": 9,
   "id": "835feb2c-1119-470a-b1f6-b2e3d1645936",
   "metadata": {},
   "outputs": [],
   "source": [
    "pobs = \"/work/ab0995/a270229/work/data/paper1/story-nudged/data/full_data/ERA5/ppr_rev/etccdi/rdiff/\"\n",
    "pmod = \"/work/ab0995/a270229/work/data/paper1/story-nudged/data/full_data/hist/processd/etccdi/rdiff/\"\n",
    "pawi = \"/work/ab0995/a270229/work/data/paper1/story-nudged/data/full_data/AWICM1/etccdi/rdiff/\"\n",
    "\n",
    "data_top_rmse = np.full((num_regions, num_indices), np.nan)  # Initialize with NaNs\n",
    "data_bot_rmse = np.full((num_regions, num_indices), np.nan)  # Initialize with NaNs"
   ]
  },
  {
   "cell_type": "code",
   "execution_count": 10,
   "id": "ae6e87f5-b117-4b3d-bb45-94785eb982a7",
   "metadata": {
    "scrolled": true
   },
   "outputs": [
    {
     "name": "stdout",
     "output_type": "stream",
     "text": [
      "SHL sdii 0.2188080349869966 0.3838027281457324\n",
      "SHL rx1day 0.8156482214606209 1.5907002601972045\n"
     ]
    },
    {
     "name": "stderr",
     "output_type": "stream",
     "text": [
      "/home/a/a270229/.conda/envs/mypython/lib/python3.10/site-packages/xarray/coding/times.py:170: SerializationWarning: Ambiguous reference date string: 1-1-1 00:00:00. The first value is assumed to be the year hence will be padded with zeros to remove the ambiguity (the padded reference date string is: 0001-1-1 00:00:00). To remove this message, remove the ambiguity by padding your reference date strings with zeros.\n",
      "  warnings.warn(warning_msg, SerializationWarning)\n",
      "/home/a/a270229/.conda/envs/mypython/lib/python3.10/site-packages/xarray/coding/times.py:170: SerializationWarning: Ambiguous reference date string: 0-0-64 00:00:00. The first value is assumed to be the year hence will be padded with zeros to remove the ambiguity (the padded reference date string is: 0000-0-64 00:00:00). To remove this message, remove the ambiguity by padding your reference date strings with zeros.\n",
      "  warnings.warn(warning_msg, SerializationWarning)\n"
     ]
    },
    {
     "name": "stdout",
     "output_type": "stream",
     "text": [
      "SHL rr1 0.9071943160579539 1.3312578106652118\n",
      "SHL rr10 0.18791881162191443 0.2938624633651691\n",
      "SHL cdd 1.189300056318424 2.01097519987285\n",
      "SHL cwd 0.7652001635704777 0.9871025569337004\n",
      "SHL fd 1.5543810380695904 0.8090800252959525\n",
      "SHL tr 0.0 0.0\n",
      "SHL txn 1.3984163478784315 2.0372873446999433\n",
      "SHL txx 0.6836780376083876 1.6741357189847104\n",
      "SHL tnn 1.4540793898674025 2.0793721232824414\n",
      "SHL tnx 0.8655512696360304 1.5454195388019691\n",
      "SML sdii 0.7850637915401556 1.0176904686762875\n",
      "SML rx1day 3.935612604437183 5.281607274428445\n"
     ]
    },
    {
     "name": "stderr",
     "output_type": "stream",
     "text": [
      "/home/a/a270229/.conda/envs/mypython/lib/python3.10/site-packages/xarray/coding/times.py:170: SerializationWarning: Ambiguous reference date string: 1-1-1 00:00:00. The first value is assumed to be the year hence will be padded with zeros to remove the ambiguity (the padded reference date string is: 0001-1-1 00:00:00). To remove this message, remove the ambiguity by padding your reference date strings with zeros.\n",
      "  warnings.warn(warning_msg, SerializationWarning)\n",
      "/home/a/a270229/.conda/envs/mypython/lib/python3.10/site-packages/xarray/coding/times.py:170: SerializationWarning: Ambiguous reference date string: 0-0-64 00:00:00. The first value is assumed to be the year hence will be padded with zeros to remove the ambiguity (the padded reference date string is: 0000-0-64 00:00:00). To remove this message, remove the ambiguity by padding your reference date strings with zeros.\n",
      "  warnings.warn(warning_msg, SerializationWarning)\n"
     ]
    },
    {
     "name": "stdout",
     "output_type": "stream",
     "text": [
      "SML rr1 1.1480083194344906 1.7935127910414441\n",
      "SML rr10 0.5420886791577235 0.7541136941738579\n",
      "SML cdd 1.0314991845266535 1.4680318026549803\n",
      "SML cwd 1.1242856945690698 1.4817191766335627\n",
      "SML fd 0.5926719137788555 0.6839033173287813\n",
      "SML tr 0.25480117328005386 0.6283908819381534\n",
      "SML txn 0.5010412496330464 0.7524779600112298\n",
      "SML txx 0.4613278594152989 0.6929161288294365\n",
      "SML tnn 0.5245261710345434 0.8829117392794655\n",
      "SML tnx 0.44022275488189466 0.5848846708747095\n",
      "TRP sdii 1.0657278122157097 1.3572734345648354\n",
      "TRP rx1day 6.615224604206656 7.973898142033255\n"
     ]
    },
    {
     "name": "stderr",
     "output_type": "stream",
     "text": [
      "/home/a/a270229/.conda/envs/mypython/lib/python3.10/site-packages/xarray/coding/times.py:170: SerializationWarning: Ambiguous reference date string: 1-1-1 00:00:00. The first value is assumed to be the year hence will be padded with zeros to remove the ambiguity (the padded reference date string is: 0001-1-1 00:00:00). To remove this message, remove the ambiguity by padding your reference date strings with zeros.\n",
      "  warnings.warn(warning_msg, SerializationWarning)\n",
      "/home/a/a270229/.conda/envs/mypython/lib/python3.10/site-packages/xarray/coding/times.py:170: SerializationWarning: Ambiguous reference date string: 0-0-64 00:00:00. The first value is assumed to be the year hence will be padded with zeros to remove the ambiguity (the padded reference date string is: 0000-0-64 00:00:00). To remove this message, remove the ambiguity by padding your reference date strings with zeros.\n",
      "  warnings.warn(warning_msg, SerializationWarning)\n"
     ]
    },
    {
     "name": "stdout",
     "output_type": "stream",
     "text": [
      "TRP rr1 1.2674185667981968 2.2937282035141267\n",
      "TRP rr10 0.7726022289594888 1.285705643789306\n",
      "TRP cdd 1.5780494998062597 2.755445915880854\n",
      "TRP cwd 1.2747311418630394 1.8905805530523\n",
      "TRP fd 0.02524417469253604 0.031508617386804\n",
      "TRP tr 0.7616954865755658 0.9928484969020955\n",
      "TRP txn 0.3424508758618899 0.5508207547578721\n",
      "TRP txx 0.36402986706064755 0.5955524898403043\n",
      "TRP tnn 0.3439969014695158 0.6261979922846065\n",
      "TRP tnx 0.3169958118096229 0.5384004415574247\n",
      "NML sdii 1.0107526144967316 1.2082426047434995\n",
      "NML rx1day 4.506806579021789 5.640092565909336\n"
     ]
    },
    {
     "name": "stderr",
     "output_type": "stream",
     "text": [
      "/home/a/a270229/.conda/envs/mypython/lib/python3.10/site-packages/xarray/coding/times.py:170: SerializationWarning: Ambiguous reference date string: 1-1-1 00:00:00. The first value is assumed to be the year hence will be padded with zeros to remove the ambiguity (the padded reference date string is: 0001-1-1 00:00:00). To remove this message, remove the ambiguity by padding your reference date strings with zeros.\n",
      "  warnings.warn(warning_msg, SerializationWarning)\n",
      "/home/a/a270229/.conda/envs/mypython/lib/python3.10/site-packages/xarray/coding/times.py:170: SerializationWarning: Ambiguous reference date string: 0-0-64 00:00:00. The first value is assumed to be the year hence will be padded with zeros to remove the ambiguity (the padded reference date string is: 0000-0-64 00:00:00). To remove this message, remove the ambiguity by padding your reference date strings with zeros.\n",
      "  warnings.warn(warning_msg, SerializationWarning)\n"
     ]
    },
    {
     "name": "stdout",
     "output_type": "stream",
     "text": [
      "NML rr1 1.1121759544889487 1.8676082904068756\n",
      "NML rr10 0.5888690080803166 0.8197585383510699\n",
      "NML cdd 1.5386789113594659 2.4030674415355273\n",
      "NML cwd 0.9289591309955284 1.3196314502876476\n",
      "NML fd 0.8748550544260435 1.0618572244926323\n",
      "NML tr 0.7762155657035436 1.3319388257689175\n",
      "NML txn 0.8019506742718864 1.302089544342595\n",
      "NML txx 0.8251023147296627 1.2379905091787764\n",
      "NML tnn 0.9951553298145196 1.5642638719273414\n",
      "NML tnx 0.757317880362581 1.1553460909074862\n",
      "NHL sdii 0.38993510255015845 0.6021549941658496\n",
      "NHL rx1day 1.4719304853586967 2.401343923424192\n"
     ]
    },
    {
     "name": "stderr",
     "output_type": "stream",
     "text": [
      "/home/a/a270229/.conda/envs/mypython/lib/python3.10/site-packages/xarray/coding/times.py:170: SerializationWarning: Ambiguous reference date string: 1-1-1 00:00:00. The first value is assumed to be the year hence will be padded with zeros to remove the ambiguity (the padded reference date string is: 0001-1-1 00:00:00). To remove this message, remove the ambiguity by padding your reference date strings with zeros.\n",
      "  warnings.warn(warning_msg, SerializationWarning)\n",
      "/home/a/a270229/.conda/envs/mypython/lib/python3.10/site-packages/xarray/coding/times.py:170: SerializationWarning: Ambiguous reference date string: 0-0-64 00:00:00. The first value is assumed to be the year hence will be padded with zeros to remove the ambiguity (the padded reference date string is: 0000-0-64 00:00:00). To remove this message, remove the ambiguity by padding your reference date strings with zeros.\n",
      "  warnings.warn(warning_msg, SerializationWarning)\n"
     ]
    },
    {
     "name": "stdout",
     "output_type": "stream",
     "text": [
      "NHL rr1 1.030688786048025 1.5960890324353914\n",
      "NHL rr10 0.26722703174945206 0.40551438585062216\n",
      "NHL cdd 1.577591353444507 2.3059338439673853\n",
      "NHL cwd 0.7292556733819374 1.0190207347339524\n",
      "NHL fd 1.3502246107999614 2.4405159595536805\n",
      "NHL tr 0.011336292931499917 0.057392182764321134\n",
      "NHL txn 1.311509386651435 2.0412054458157556\n",
      "NHL txx 0.9839554554478731 1.5450164032834883\n",
      "NHL tnn 1.353077541059462 2.240471075775408\n",
      "NHL tnx 0.98186662205918 1.3975886163557363\n"
     ]
    },
    {
     "name": "stderr",
     "output_type": "stream",
     "text": [
      "/home/a/a270229/.conda/envs/mypython/lib/python3.10/site-packages/xarray/core/computation.py:825: RuntimeWarning: invalid value encountered in sqrt\n",
      "  result_data = func(*input_data)\n",
      "/home/a/a270229/.conda/envs/mypython/lib/python3.10/site-packages/xarray/core/computation.py:825: RuntimeWarning: invalid value encountered in sqrt\n",
      "  result_data = func(*input_data)\n"
     ]
    },
    {
     "name": "stdout",
     "output_type": "stream",
     "text": [
      "GLB sdii 0.40546555232988035 0.5211230846616768\n"
     ]
    },
    {
     "name": "stderr",
     "output_type": "stream",
     "text": [
      "/home/a/a270229/.conda/envs/mypython/lib/python3.10/site-packages/xarray/core/computation.py:825: RuntimeWarning: invalid value encountered in sqrt\n",
      "  result_data = func(*input_data)\n",
      "/home/a/a270229/.conda/envs/mypython/lib/python3.10/site-packages/xarray/core/computation.py:825: RuntimeWarning: invalid value encountered in sqrt\n",
      "  result_data = func(*input_data)\n",
      "/home/a/a270229/.conda/envs/mypython/lib/python3.10/site-packages/xarray/coding/times.py:170: SerializationWarning: Ambiguous reference date string: 1-1-1 00:00:00. The first value is assumed to be the year hence will be padded with zeros to remove the ambiguity (the padded reference date string is: 0001-1-1 00:00:00). To remove this message, remove the ambiguity by padding your reference date strings with zeros.\n",
      "  warnings.warn(warning_msg, SerializationWarning)\n"
     ]
    },
    {
     "name": "stdout",
     "output_type": "stream",
     "text": [
      "GLB rx1day 2.259671355257604 2.8301673876251416\n"
     ]
    },
    {
     "name": "stderr",
     "output_type": "stream",
     "text": [
      "/home/a/a270229/.conda/envs/mypython/lib/python3.10/site-packages/xarray/coding/times.py:170: SerializationWarning: Ambiguous reference date string: 0-0-64 00:00:00. The first value is assumed to be the year hence will be padded with zeros to remove the ambiguity (the padded reference date string is: 0000-0-64 00:00:00). To remove this message, remove the ambiguity by padding your reference date strings with zeros.\n",
      "  warnings.warn(warning_msg, SerializationWarning)\n",
      "/home/a/a270229/.conda/envs/mypython/lib/python3.10/site-packages/xarray/core/computation.py:825: RuntimeWarning: invalid value encountered in sqrt\n",
      "  result_data = func(*input_data)\n",
      "/home/a/a270229/.conda/envs/mypython/lib/python3.10/site-packages/xarray/core/computation.py:825: RuntimeWarning: invalid value encountered in sqrt\n",
      "  result_data = func(*input_data)\n"
     ]
    },
    {
     "name": "stdout",
     "output_type": "stream",
     "text": [
      "GLB rr1 0.5435320280170584 0.9279999469485297\n",
      "GLB rr10 0.2821901312843272 0.44512954473707034\n"
     ]
    },
    {
     "name": "stderr",
     "output_type": "stream",
     "text": [
      "/home/a/a270229/.conda/envs/mypython/lib/python3.10/site-packages/xarray/core/computation.py:825: RuntimeWarning: invalid value encountered in sqrt\n",
      "  result_data = func(*input_data)\n",
      "/home/a/a270229/.conda/envs/mypython/lib/python3.10/site-packages/xarray/core/computation.py:825: RuntimeWarning: invalid value encountered in sqrt\n",
      "  result_data = func(*input_data)\n"
     ]
    },
    {
     "name": "stdout",
     "output_type": "stream",
     "text": [
      "GLB cdd 0.6747033751784859 1.1119024407050397\n"
     ]
    },
    {
     "name": "stderr",
     "output_type": "stream",
     "text": [
      "/home/a/a270229/.conda/envs/mypython/lib/python3.10/site-packages/xarray/core/computation.py:825: RuntimeWarning: invalid value encountered in sqrt\n",
      "  result_data = func(*input_data)\n",
      "/home/a/a270229/.conda/envs/mypython/lib/python3.10/site-packages/xarray/core/computation.py:825: RuntimeWarning: invalid value encountered in sqrt\n",
      "  result_data = func(*input_data)\n"
     ]
    },
    {
     "name": "stdout",
     "output_type": "stream",
     "text": [
      "GLB cwd 0.511333462132947 0.7318867145427548\n",
      "GLB fd 0.23588426984673816 0.2721517741388131\n",
      "GLB tr 0.2533686444601504 0.37601700778558617\n"
     ]
    },
    {
     "name": "stderr",
     "output_type": "stream",
     "text": [
      "/home/a/a270229/.conda/envs/mypython/lib/python3.10/site-packages/xarray/core/computation.py:825: RuntimeWarning: invalid value encountered in sqrt\n",
      "  result_data = func(*input_data)\n",
      "/home/a/a270229/.conda/envs/mypython/lib/python3.10/site-packages/xarray/core/computation.py:825: RuntimeWarning: invalid value encountered in sqrt\n",
      "  result_data = func(*input_data)\n"
     ]
    },
    {
     "name": "stdout",
     "output_type": "stream",
     "text": [
      "GLB txn 0.29067092121604265 0.4524307734781653\n"
     ]
    },
    {
     "name": "stderr",
     "output_type": "stream",
     "text": [
      "/home/a/a270229/.conda/envs/mypython/lib/python3.10/site-packages/xarray/core/computation.py:825: RuntimeWarning: invalid value encountered in sqrt\n",
      "  result_data = func(*input_data)\n",
      "/home/a/a270229/.conda/envs/mypython/lib/python3.10/site-packages/xarray/core/computation.py:825: RuntimeWarning: invalid value encountered in sqrt\n",
      "  result_data = func(*input_data)\n"
     ]
    },
    {
     "name": "stdout",
     "output_type": "stream",
     "text": [
      "GLB txx 0.24952523055354695 0.4170088731741342\n"
     ]
    },
    {
     "name": "stderr",
     "output_type": "stream",
     "text": [
      "/home/a/a270229/.conda/envs/mypython/lib/python3.10/site-packages/xarray/core/computation.py:825: RuntimeWarning: invalid value encountered in sqrt\n",
      "  result_data = func(*input_data)\n",
      "/home/a/a270229/.conda/envs/mypython/lib/python3.10/site-packages/xarray/core/computation.py:825: RuntimeWarning: invalid value encountered in sqrt\n",
      "  result_data = func(*input_data)\n"
     ]
    },
    {
     "name": "stdout",
     "output_type": "stream",
     "text": [
      "GLB tnn 0.3106431917439167 0.5085913473794617\n"
     ]
    },
    {
     "name": "stderr",
     "output_type": "stream",
     "text": [
      "/home/a/a270229/.conda/envs/mypython/lib/python3.10/site-packages/xarray/core/computation.py:825: RuntimeWarning: invalid value encountered in sqrt\n",
      "  result_data = func(*input_data)\n"
     ]
    },
    {
     "name": "stdout",
     "output_type": "stream",
     "text": [
      "GLB tnx 0.23989567420545277 0.3780697874085509\n",
      "CPU times: user 3min 12s, sys: 3min 45s, total: 6min 58s\n",
      "Wall time: 9min 33s\n"
     ]
    },
    {
     "name": "stderr",
     "output_type": "stream",
     "text": [
      "/home/a/a270229/.conda/envs/mypython/lib/python3.10/site-packages/xarray/core/computation.py:825: RuntimeWarning: invalid value encountered in sqrt\n",
      "  result_data = func(*input_data)\n"
     ]
    }
   ],
   "source": [
    "%%time\n",
    "\n",
    "for i, region in enumerate(regions):\n",
    "    for j, index in enumerate(indices):\n",
    "        fmod = f\"{pmod}Bias_{index}_2018-2023_{region}.nc\"\n",
    "        fawi = f\"{pawi}Bias_{index}_2018-2023_{region}.nc\"\n",
    "\n",
    "        try:\n",
    "            fmod_ds = xr.open_dataset(fmod, decode_times=False)\n",
    "            fawi_ds = xr.open_dataset(fawi, decode_times=False)\n",
    "            \n",
    "            modvar = find_variable(fmod_ds)\n",
    "            awivar = find_variable(fawi_ds)\n",
    "            \n",
    "            if modvar :\n",
    "                dtmod = fmod_ds[modvar]\n",
    "                dtawi = fawi_ds[awivar]\n",
    "\n",
    "                if 'height' in dtmod.dims:\n",
    "                    dtmod = dtmod.isel(height=0) #.drop_dims('height')\n",
    "\n",
    "                dttp=compute_weighted_rmse_at_each_grid_point_fromdiff(dtmod).mean().values\n",
    "                dtbt=compute_weighted_rmse_at_each_grid_point_fromdiff(dtawi).mean().values\n",
    "\n",
    "                data_top_rmse[i, j] = dttp\n",
    "                data_bot_rmse[i, j] = dtbt\n",
    "                print(region, index, dttp, dtbt)\n",
    "\n",
    "            else:\n",
    "                print(f\"No matching variable found for {index} in {region}\")\n",
    "        except Exception as e:\n",
    "            print(f\"Error processing {index} in {region}: {e}\")"
   ]
  },
  {
   "cell_type": "code",
   "execution_count": 9,
   "id": "3f8458aa-e884-4470-aed2-7c27913d0358",
   "metadata": {
    "scrolled": true
   },
   "outputs": [
    {
     "name": "stdout",
     "output_type": "stream",
     "text": [
      "SHL sdii 0.04130920173496754 0.07798914576711463\n",
      "SHL rx1day 0.1402429433666209 0.2559065039456978\n"
     ]
    },
    {
     "name": "stderr",
     "output_type": "stream",
     "text": [
      "/home/a/a270229/.conda/envs/mypython/lib/python3.10/site-packages/xarray/coding/times.py:170: SerializationWarning: Ambiguous reference date string: 1-1-1 00:00:00. The first value is assumed to be the year hence will be padded with zeros to remove the ambiguity (the padded reference date string is: 0001-1-1 00:00:00). To remove this message, remove the ambiguity by padding your reference date strings with zeros.\n",
      "  warnings.warn(warning_msg, SerializationWarning)\n",
      "/home/a/a270229/.conda/envs/mypython/lib/python3.10/site-packages/xarray/coding/times.py:170: SerializationWarning: Ambiguous reference date string: 0-0-64 00:00:00. The first value is assumed to be the year hence will be padded with zeros to remove the ambiguity (the padded reference date string is: 0000-0-64 00:00:00). To remove this message, remove the ambiguity by padding your reference date strings with zeros.\n",
      "  warnings.warn(warning_msg, SerializationWarning)\n"
     ]
    },
    {
     "name": "stdout",
     "output_type": "stream",
     "text": [
      "SHL rr1 0.1517522619363999 0.19791947936559504\n",
      "SHL rr10 0.033942401484468074 0.05480332503218843\n",
      "SHL cdd 0.15581819645364145 0.2615769626735786\n",
      "SHL cwd 0.13393384221781848 0.16034765993050323\n",
      "SHL fd 0.32965700359491196 0.2061689026612963\n",
      "SHL tr 0.0 0.0\n",
      "SHL txn 0.21184752405932608 0.26942387650070754\n",
      "SHL txx 0.0915986550054331 0.22770388388739696\n",
      "SHL tnn 0.22102855623783157 0.28360377459446867\n",
      "SHL tnx 0.1170275141005806 0.20099430884542158\n",
      "SML sdii 0.11894814004677502 0.1440433333979632\n",
      "SML rx1day 0.573356646637118 0.7120051413494525\n"
     ]
    },
    {
     "name": "stderr",
     "output_type": "stream",
     "text": [
      "/home/a/a270229/.conda/envs/mypython/lib/python3.10/site-packages/xarray/coding/times.py:170: SerializationWarning: Ambiguous reference date string: 1-1-1 00:00:00. The first value is assumed to be the year hence will be padded with zeros to remove the ambiguity (the padded reference date string is: 0001-1-1 00:00:00). To remove this message, remove the ambiguity by padding your reference date strings with zeros.\n",
      "  warnings.warn(warning_msg, SerializationWarning)\n",
      "/home/a/a270229/.conda/envs/mypython/lib/python3.10/site-packages/xarray/coding/times.py:170: SerializationWarning: Ambiguous reference date string: 0-0-64 00:00:00. The first value is assumed to be the year hence will be padded with zeros to remove the ambiguity (the padded reference date string is: 0000-0-64 00:00:00). To remove this message, remove the ambiguity by padding your reference date strings with zeros.\n",
      "  warnings.warn(warning_msg, SerializationWarning)\n"
     ]
    },
    {
     "name": "stdout",
     "output_type": "stream",
     "text": [
      "SML rr1 0.13846774517135832 0.2155238443742494\n",
      "SML rr10 0.0673181570846421 0.09379695188087231\n",
      "SML cdd 0.1412456590585113 0.20209748523849735\n",
      "SML cwd 0.14197618367029807 0.18816077426378833\n",
      "SML fd 0.13034390777958146 0.14606635211618993\n",
      "SML tr 0.06105428750215348 0.15024212971517079\n",
      "SML txn 0.06612319821770257 0.10191244568641282\n",
      "SML txx 0.060987584662627096 0.09479902710621546\n",
      "SML tnn 0.07089628337407212 0.1181214540518964\n",
      "SML tnx 0.05557427542215388 0.08067742502759111\n",
      "TRP sdii 0.15614078044114832 0.22093922491173465\n",
      "TRP rx1day 0.9302798712667796 1.1165944384295141\n"
     ]
    },
    {
     "name": "stderr",
     "output_type": "stream",
     "text": [
      "/home/a/a270229/.conda/envs/mypython/lib/python3.10/site-packages/xarray/coding/times.py:170: SerializationWarning: Ambiguous reference date string: 1-1-1 00:00:00. The first value is assumed to be the year hence will be padded with zeros to remove the ambiguity (the padded reference date string is: 0001-1-1 00:00:00). To remove this message, remove the ambiguity by padding your reference date strings with zeros.\n",
      "  warnings.warn(warning_msg, SerializationWarning)\n",
      "/home/a/a270229/.conda/envs/mypython/lib/python3.10/site-packages/xarray/coding/times.py:170: SerializationWarning: Ambiguous reference date string: 0-0-64 00:00:00. The first value is assumed to be the year hence will be padded with zeros to remove the ambiguity (the padded reference date string is: 0000-0-64 00:00:00). To remove this message, remove the ambiguity by padding your reference date strings with zeros.\n",
      "  warnings.warn(warning_msg, SerializationWarning)\n"
     ]
    },
    {
     "name": "stdout",
     "output_type": "stream",
     "text": [
      "TRP rr1 0.16469323604161126 0.30358767267665304\n",
      "TRP rr10 0.11031971020490725 0.19209385418265368\n",
      "TRP cdd 0.20501967382463226 0.3585887722622795\n",
      "TRP cwd 0.17736406271023608 0.2653202846454999\n",
      "TRP fd 0.021364877697113694 0.03200983334873094\n",
      "TRP tr 0.14698664900480427 0.19439037746559537\n",
      "TRP txn 0.048577288492734697 0.07659149769356866\n",
      "TRP txx 0.05165904171773784 0.08573470366970441\n",
      "TRP tnn 0.04609468993324846 0.08405307289139315\n",
      "TRP tnx 0.0429273368339348 0.07359297046539814\n",
      "NML sdii 0.13928518333785986 0.17046958680800295\n",
      "NML rx1day 0.6254333738823922 0.7574647236384892\n"
     ]
    },
    {
     "name": "stderr",
     "output_type": "stream",
     "text": [
      "/home/a/a270229/.conda/envs/mypython/lib/python3.10/site-packages/xarray/coding/times.py:170: SerializationWarning: Ambiguous reference date string: 1-1-1 00:00:00. The first value is assumed to be the year hence will be padded with zeros to remove the ambiguity (the padded reference date string is: 0001-1-1 00:00:00). To remove this message, remove the ambiguity by padding your reference date strings with zeros.\n",
      "  warnings.warn(warning_msg, SerializationWarning)\n",
      "/home/a/a270229/.conda/envs/mypython/lib/python3.10/site-packages/xarray/coding/times.py:170: SerializationWarning: Ambiguous reference date string: 0-0-64 00:00:00. The first value is assumed to be the year hence will be padded with zeros to remove the ambiguity (the padded reference date string is: 0000-0-64 00:00:00). To remove this message, remove the ambiguity by padding your reference date strings with zeros.\n",
      "  warnings.warn(warning_msg, SerializationWarning)\n"
     ]
    },
    {
     "name": "stdout",
     "output_type": "stream",
     "text": [
      "NML rr1 0.13811340446810766 0.23186980167418686\n",
      "NML rr10 0.076100682833988 0.10723739902131492\n",
      "NML cdd 0.2006073030758118 0.317872287986547\n",
      "NML cwd 0.12182271190126553 0.17125842018033782\n",
      "NML fd 0.13685251659222336 0.17715538367123948\n",
      "NML tr 0.140878322819309 0.2242245936455958\n",
      "NML txn 0.10603226656630745 0.16890358810550718\n",
      "NML txx 0.10901606304270157 0.16698453266690627\n",
      "NML tnn 0.13621083929210917 0.20781971733208437\n",
      "NML tnx 0.0985431528412155 0.15510649456636058\n",
      "NHL sdii 0.05716442108632248 0.08936743326574594\n",
      "NHL rx1day 0.22322083711262264 0.3573448378270211\n"
     ]
    },
    {
     "name": "stderr",
     "output_type": "stream",
     "text": [
      "/home/a/a270229/.conda/envs/mypython/lib/python3.10/site-packages/xarray/coding/times.py:170: SerializationWarning: Ambiguous reference date string: 1-1-1 00:00:00. The first value is assumed to be the year hence will be padded with zeros to remove the ambiguity (the padded reference date string is: 0001-1-1 00:00:00). To remove this message, remove the ambiguity by padding your reference date strings with zeros.\n",
      "  warnings.warn(warning_msg, SerializationWarning)\n",
      "/home/a/a270229/.conda/envs/mypython/lib/python3.10/site-packages/xarray/coding/times.py:170: SerializationWarning: Ambiguous reference date string: 0-0-64 00:00:00. The first value is assumed to be the year hence will be padded with zeros to remove the ambiguity (the padded reference date string is: 0000-0-64 00:00:00). To remove this message, remove the ambiguity by padding your reference date strings with zeros.\n",
      "  warnings.warn(warning_msg, SerializationWarning)\n"
     ]
    },
    {
     "name": "stdout",
     "output_type": "stream",
     "text": [
      "NHL rr1 0.14260528887139975 0.21525177602493617\n",
      "NHL rr10 0.042037902978722175 0.0649992752541752\n",
      "NHL cdd 0.19771287858572845 0.2881331400526926\n",
      "NHL cwd 0.10849117758756266 0.14832608437810546\n",
      "NHL fd 0.20500064750690658 0.3234834566336453\n",
      "NHL tr 0.006319901928821973 0.020948886806987862\n",
      "NHL txn 0.1749133996554878 0.2612264821351398\n",
      "NHL txx 0.12980004208640092 0.20834550941003518\n",
      "NHL tnn 0.18348190793020402 0.28549480787977766\n",
      "NHL tnx 0.1264720408201651 0.18139352582547832\n",
      "GLB sdii 0.07059960344792211 0.0948159105481701\n",
      "GLB rx1day 0.408501191385526 0.4927187390710305\n"
     ]
    },
    {
     "name": "stderr",
     "output_type": "stream",
     "text": [
      "/home/a/a270229/.conda/envs/mypython/lib/python3.10/site-packages/xarray/coding/times.py:170: SerializationWarning: Ambiguous reference date string: 1-1-1 00:00:00. The first value is assumed to be the year hence will be padded with zeros to remove the ambiguity (the padded reference date string is: 0001-1-1 00:00:00). To remove this message, remove the ambiguity by padding your reference date strings with zeros.\n",
      "  warnings.warn(warning_msg, SerializationWarning)\n",
      "/home/a/a270229/.conda/envs/mypython/lib/python3.10/site-packages/xarray/coding/times.py:170: SerializationWarning: Ambiguous reference date string: 0-0-64 00:00:00. The first value is assumed to be the year hence will be padded with zeros to remove the ambiguity (the padded reference date string is: 0000-0-64 00:00:00). To remove this message, remove the ambiguity by padding your reference date strings with zeros.\n",
      "  warnings.warn(warning_msg, SerializationWarning)\n"
     ]
    },
    {
     "name": "stdout",
     "output_type": "stream",
     "text": [
      "GLB rr1 0.0785426736414776 0.1391486901113753\n",
      "GLB rr10 0.04872814662821601 0.08273821252710055\n",
      "GLB cdd 0.09769934617804137 0.16564193671083485\n",
      "GLB cwd 0.08147974813104636 0.11929790362770942\n",
      "GLB fd 0.05339889620951663 0.05851057836840411\n",
      "GLB tr 0.06570775257632434 0.09230057161699447\n",
      "GLB txn 0.04139650046591597 0.06113644116603558\n",
      "GLB txx 0.03467272108236677 0.058416566999457485\n",
      "GLB tnn 0.044671487893487176 0.06876144184455857\n",
      "GLB tnx 0.032081926879425716 0.05151189856885555\n",
      "CPU times: user 3min 1s, sys: 3min 8s, total: 6min 10s\n",
      "Wall time: 8min 29s\n"
     ]
    }
   ],
   "source": [
    "%%time\n",
    "\n",
    "for i, region in enumerate(regions):\n",
    "    for j, index in enumerate(indices):\n",
    "        fmod = f\"{pmod}Bias_{index}_2018-2023_{region}.nc\"\n",
    "        fawi = f\"{pawi}Bias_{index}_2018-2023_{region}.nc\"\n",
    "\n",
    "        try:\n",
    "            fmod_ds = xr.open_dataset(fmod, decode_times=False)\n",
    "            fawi_ds = xr.open_dataset(fawi, decode_times=False)\n",
    "            \n",
    "            modvar = find_variable(fmod_ds)\n",
    "            awivar = find_variable(fawi_ds)\n",
    "            \n",
    "            if modvar :\n",
    "                dtmod = fmod_ds[modvar]\n",
    "                dtawi = fawi_ds[awivar]\n",
    "\n",
    "                if 'height' in dtmod.dims:\n",
    "                    dtmod = dtmod.isel(height=0) #.drop_dims('height')\n",
    "\n",
    "                dttp = compute_spatially_averaged_rmse(dtmod).values\n",
    "                dtbt = compute_spatially_averaged_rmse(dtawi).values\n",
    "\n",
    "                data_top_rmse[i, j] = dttp\n",
    "                data_bot_rmse[i, j] = dtbt\n",
    "                print(region, index, dttp, dtbt)\n",
    "\n",
    "            else:\n",
    "                print(f\"No matching variable found for {index} in {region}\")\n",
    "        except Exception as e:\n",
    "            print(f\"Error processing {index} in {region}: {e}\")"
   ]
  },
  {
   "cell_type": "markdown",
   "id": "24011a83-ed07-4c3f-ad44-874349c6e7b9",
   "metadata": {},
   "source": [
    "# Pattern Correlation"
   ]
  },
  {
   "cell_type": "code",
   "execution_count": 11,
   "id": "730cfc5d-6279-456b-b329-0567d610eb19",
   "metadata": {},
   "outputs": [],
   "source": [
    "# Calculate correlation coefficient along the time dimension separately for each time step\n",
    "def calculate_correlation(dataset1, dataset2):\n",
    "    correlation_values = []\n",
    "    for t in range(len(dataset1['time'])):\n",
    "        # Select the data at a specific time step\n",
    "        data1 = dataset1.isel(time=t)\n",
    "        data2 = dataset2.isel(time=t)\n",
    "\n",
    "        # Check if the data is 1D or 2D and flatten accordingly\n",
    "        if data1.values.ndim == 1:\n",
    "            valid_mask = ~np.isnan(data1.values) & ~np.isnan(data2.values)\n",
    "            valid_data1 = data1.values[valid_mask]\n",
    "            valid_data2 = data2.values[valid_mask]\n",
    "        elif data1.values.ndim == 2:\n",
    "            valid_mask = ~np.isnan(data1.values) & ~np.isnan(data2.values)\n",
    "            valid_data1 = data1.values.flatten()[valid_mask.flatten()]\n",
    "            valid_data2 = data2.values.flatten()[valid_mask.flatten()]\n",
    "\n",
    "        # Check if there's enough data to compute correlation\n",
    "        if len(valid_data1) > 1 and len(valid_data2) > 1:\n",
    "            # Calculate correlation coefficient using only valid data\n",
    "            correlation = np.corrcoef(valid_data1, valid_data2)[0, 1]\n",
    "        else:\n",
    "            # If there are not enough valid data points, set correlation to NaN\n",
    "            correlation = np.nan\n",
    "\n",
    "        correlation_values.append(correlation)\n",
    "\n",
    "    # Construct a new DataArray with time coordinates and correlation values\n",
    "    correlation = xr.DataArray(\n",
    "        correlation_values,\n",
    "        coords=[dataset1.time],\n",
    "        dims=['time'],\n",
    "        name='correlation'\n",
    "    )\n",
    "\n",
    "    return correlation"
   ]
  },
  {
   "cell_type": "code",
   "execution_count": 12,
   "id": "b59ee121-f80d-4f8d-8380-fd9c14a4cd46",
   "metadata": {},
   "outputs": [],
   "source": [
    "pobs = \"/work/ab0995/a270229/work/data/paper1/story-nudged/data/full_data/ERA5/ppr_rev/etccdi/\"\n",
    "pmod = \"/work/ab0995/a270229/work/data/paper1/story-nudged/data/full_data/hist/processd/etccdi/\"\n",
    "pawi = \"/work/ab0995/a270229/work/data/paper1/story-nudged/data/full_data/AWICM1/etccdi/\"\n",
    "\n",
    "data_top_pcor = np.full((num_regions, num_indices), np.nan)  # Initialize with NaNs\n",
    "data_bot_pcor = np.full((num_regions, num_indices), np.nan)  # Initialize with NaNs"
   ]
  },
  {
   "cell_type": "code",
   "execution_count": 13,
   "id": "cdaa3cd4-a0b7-4cf7-b4ea-c8632bc12868",
   "metadata": {},
   "outputs": [
    {
     "name": "stdout",
     "output_type": "stream",
     "text": [
      "SHL sdii 0.923628367423508 0.688402360841308\n",
      "SHL rx1day 0.9506834839421556 0.8026140176164714\n"
     ]
    },
    {
     "name": "stderr",
     "output_type": "stream",
     "text": [
      "/home/a/a270229/.conda/envs/mypython/lib/python3.10/site-packages/xarray/coding/times.py:170: SerializationWarning: Ambiguous reference date string: 1-1-1 00:00:00. The first value is assumed to be the year hence will be padded with zeros to remove the ambiguity (the padded reference date string is: 0001-1-1 00:00:00). To remove this message, remove the ambiguity by padding your reference date strings with zeros.\n",
      "  warnings.warn(warning_msg, SerializationWarning)\n",
      "/home/a/a270229/.conda/envs/mypython/lib/python3.10/site-packages/xarray/coding/times.py:170: SerializationWarning: Ambiguous reference date string: 0-0-64 00:00:00. The first value is assumed to be the year hence will be padded with zeros to remove the ambiguity (the padded reference date string is: 0000-0-64 00:00:00). To remove this message, remove the ambiguity by padding your reference date strings with zeros.\n",
      "  warnings.warn(warning_msg, SerializationWarning)\n"
     ]
    },
    {
     "name": "stdout",
     "output_type": "stream",
     "text": [
      "SHL rr1 0.9632381110902922 0.9329685753785188\n",
      "SHL rr10 0.870658260838546 0.6090142151204139\n",
      "SHL cdd 0.9630759713508937 0.8870370077970541\n",
      "SHL cwd 0.8513322509182042 0.7647502276486249\n",
      "SHL fd 0.8553693909628798 0.8395469752802375\n"
     ]
    },
    {
     "name": "stderr",
     "output_type": "stream",
     "text": [
      "/home/a/a270229/.conda/envs/mypython/lib/python3.10/site-packages/numpy/lib/function_base.py:2853: RuntimeWarning: invalid value encountered in divide\n",
      "  c /= stddev[:, None]\n",
      "/home/a/a270229/.conda/envs/mypython/lib/python3.10/site-packages/numpy/lib/function_base.py:2853: RuntimeWarning: invalid value encountered in divide\n",
      "  c /= stddev[:, None]\n"
     ]
    },
    {
     "name": "stdout",
     "output_type": "stream",
     "text": [
      "SHL tr nan nan\n",
      "SHL txn 0.98950207628971 0.9830490991776877\n",
      "SHL txx 0.9959168004962338 0.9837462139503638\n",
      "SHL tnn 0.9889195333924319 0.9798203480295773\n",
      "SHL tnx 0.9952640464295825 0.9841330696049909\n",
      "SML sdii 0.8241787760100276 0.6509432599472169\n",
      "SML rx1day 0.7754038715072608 0.5504505840609322\n"
     ]
    },
    {
     "name": "stderr",
     "output_type": "stream",
     "text": [
      "/home/a/a270229/.conda/envs/mypython/lib/python3.10/site-packages/xarray/coding/times.py:170: SerializationWarning: Ambiguous reference date string: 1-1-1 00:00:00. The first value is assumed to be the year hence will be padded with zeros to remove the ambiguity (the padded reference date string is: 0001-1-1 00:00:00). To remove this message, remove the ambiguity by padding your reference date strings with zeros.\n",
      "  warnings.warn(warning_msg, SerializationWarning)\n",
      "/home/a/a270229/.conda/envs/mypython/lib/python3.10/site-packages/xarray/coding/times.py:170: SerializationWarning: Ambiguous reference date string: 0-0-64 00:00:00. The first value is assumed to be the year hence will be padded with zeros to remove the ambiguity (the padded reference date string is: 0000-0-64 00:00:00). To remove this message, remove the ambiguity by padding your reference date strings with zeros.\n",
      "  warnings.warn(warning_msg, SerializationWarning)\n"
     ]
    },
    {
     "name": "stdout",
     "output_type": "stream",
     "text": [
      "SML rr1 0.9280566408073708 0.8498260264813556\n",
      "SML rr10 0.8110405048579623 0.615561572294901\n",
      "SML cdd 0.8654147234718746 0.7702714626012047\n",
      "SML cwd 0.7587106178066974 0.5633603401979389\n",
      "SML fd 0.8055970654467385 0.9035856109920744\n",
      "SML tr 0.9017609658601712 0.8519091270048329\n",
      "SML txn 0.9880598553503531 0.9742707171726559\n",
      "SML txx 0.9920855279500734 0.9807436452235354\n",
      "SML tnn 0.9855490270333342 0.9691313289238843\n",
      "SML tnx 0.9916980519628685 0.981399485483384\n",
      "TRP sdii 0.7432297464700144 0.4511302391959042\n",
      "TRP rx1day 0.6775267694279076 0.49087564348297086\n"
     ]
    },
    {
     "name": "stderr",
     "output_type": "stream",
     "text": [
      "/home/a/a270229/.conda/envs/mypython/lib/python3.10/site-packages/xarray/coding/times.py:170: SerializationWarning: Ambiguous reference date string: 1-1-1 00:00:00. The first value is assumed to be the year hence will be padded with zeros to remove the ambiguity (the padded reference date string is: 0001-1-1 00:00:00). To remove this message, remove the ambiguity by padding your reference date strings with zeros.\n",
      "  warnings.warn(warning_msg, SerializationWarning)\n",
      "/home/a/a270229/.conda/envs/mypython/lib/python3.10/site-packages/xarray/coding/times.py:170: SerializationWarning: Ambiguous reference date string: 0-0-64 00:00:00. The first value is assumed to be the year hence will be padded with zeros to remove the ambiguity (the padded reference date string is: 0000-0-64 00:00:00). To remove this message, remove the ambiguity by padding your reference date strings with zeros.\n",
      "  warnings.warn(warning_msg, SerializationWarning)\n"
     ]
    },
    {
     "name": "stdout",
     "output_type": "stream",
     "text": [
      "TRP rr1 0.9139493859043747 0.7337857315168983\n",
      "TRP rr10 0.8275405621566967 0.6098426771761264\n",
      "TRP cdd 0.876863804004577 0.6711629304956469\n",
      "TRP cwd 0.7864598652863131 0.6013342446857468\n",
      "TRP fd 0.9384020199330286 0.8490832206820604\n",
      "TRP tr 0.9495868038038213 0.8990209298029872\n",
      "TRP txn 0.9660422493976394 0.9185870972114327\n",
      "TRP txx 0.9680296010364428 0.910844493478426\n",
      "TRP tnn 0.9812147288028616 0.9425691251571178\n",
      "TRP tnx 0.9681613308952028 0.923086300401424\n",
      "NML sdii 0.8180820236589972 0.6432343679506674\n",
      "NML rx1day 0.8155391678501707 0.6459046663392678\n"
     ]
    },
    {
     "name": "stderr",
     "output_type": "stream",
     "text": [
      "/home/a/a270229/.conda/envs/mypython/lib/python3.10/site-packages/xarray/coding/times.py:170: SerializationWarning: Ambiguous reference date string: 1-1-1 00:00:00. The first value is assumed to be the year hence will be padded with zeros to remove the ambiguity (the padded reference date string is: 0001-1-1 00:00:00). To remove this message, remove the ambiguity by padding your reference date strings with zeros.\n",
      "  warnings.warn(warning_msg, SerializationWarning)\n",
      "/home/a/a270229/.conda/envs/mypython/lib/python3.10/site-packages/xarray/coding/times.py:170: SerializationWarning: Ambiguous reference date string: 0-0-64 00:00:00. The first value is assumed to be the year hence will be padded with zeros to remove the ambiguity (the padded reference date string is: 0000-0-64 00:00:00). To remove this message, remove the ambiguity by padding your reference date strings with zeros.\n",
      "  warnings.warn(warning_msg, SerializationWarning)\n"
     ]
    },
    {
     "name": "stdout",
     "output_type": "stream",
     "text": [
      "NML rr1 0.9356935984496155 0.8292971262754651\n",
      "NML rr10 0.8570547104237057 0.7214055789349885\n",
      "NML cdd 0.8944538846167388 0.7687578275862899\n",
      "NML cwd 0.8053179399381534 0.6267808010907837\n",
      "NML fd 0.9482028433493799 0.8718228772743337\n",
      "NML tr 0.9203057402116196 0.891731155206728\n",
      "NML txn 0.9833084919140512 0.9542559815311262\n",
      "NML txx 0.9783200942926749 0.9487090299798303\n",
      "NML tnn 0.9806611708340532 0.9410068466779431\n",
      "NML tnx 0.9788142475301621 0.9406137898889269\n",
      "NHL sdii 0.893341174110836 0.7171155393797234\n",
      "NHL rx1day 0.8971486511245319 0.7029249926116702\n"
     ]
    },
    {
     "name": "stderr",
     "output_type": "stream",
     "text": [
      "/home/a/a270229/.conda/envs/mypython/lib/python3.10/site-packages/xarray/coding/times.py:170: SerializationWarning: Ambiguous reference date string: 1-1-1 00:00:00. The first value is assumed to be the year hence will be padded with zeros to remove the ambiguity (the padded reference date string is: 0001-1-1 00:00:00). To remove this message, remove the ambiguity by padding your reference date strings with zeros.\n",
      "  warnings.warn(warning_msg, SerializationWarning)\n",
      "/home/a/a270229/.conda/envs/mypython/lib/python3.10/site-packages/xarray/coding/times.py:170: SerializationWarning: Ambiguous reference date string: 0-0-64 00:00:00. The first value is assumed to be the year hence will be padded with zeros to remove the ambiguity (the padded reference date string is: 0000-0-64 00:00:00). To remove this message, remove the ambiguity by padding your reference date strings with zeros.\n",
      "  warnings.warn(warning_msg, SerializationWarning)\n"
     ]
    },
    {
     "name": "stdout",
     "output_type": "stream",
     "text": [
      "NHL rr1 0.904576147002028 0.7762927250588448\n",
      "NHL rr10 0.8702481597507074 0.7103339433584694\n",
      "NHL cdd 0.8351141856556674 0.6361946790178638\n",
      "NHL cwd 0.7804161363903401 0.5914841625900311\n",
      "NHL fd 0.9299053730042321 0.8572871501291949\n"
     ]
    },
    {
     "name": "stderr",
     "output_type": "stream",
     "text": [
      "/home/a/a270229/.conda/envs/mypython/lib/python3.10/site-packages/numpy/lib/function_base.py:2853: RuntimeWarning: invalid value encountered in divide\n",
      "  c /= stddev[:, None]\n",
      "/home/a/a270229/.conda/envs/mypython/lib/python3.10/site-packages/numpy/lib/function_base.py:2854: RuntimeWarning: invalid value encountered in divide\n",
      "  c /= stddev[None, :]\n",
      "/home/a/a270229/.conda/envs/mypython/lib/python3.10/site-packages/numpy/lib/function_base.py:2853: RuntimeWarning: invalid value encountered in divide\n",
      "  c /= stddev[:, None]\n"
     ]
    },
    {
     "name": "stdout",
     "output_type": "stream",
     "text": [
      "NHL tr 0.42885123507334283 0.28718322833365917\n",
      "NHL txn 0.95676327175106 0.9028259622401943\n",
      "NHL txx 0.9764091529345927 0.9265037290758086\n",
      "NHL tnn 0.948613459695151 0.8701677855216022\n",
      "NHL tnx 0.9659222726804821 0.9287495446299646\n",
      "GLB sdii 0.8092131062699234 0.6180754545791469\n",
      "GLB rx1day 0.7398799949268513 0.5629250232058265\n"
     ]
    },
    {
     "name": "stderr",
     "output_type": "stream",
     "text": [
      "/home/a/a270229/.conda/envs/mypython/lib/python3.10/site-packages/xarray/coding/times.py:170: SerializationWarning: Ambiguous reference date string: 1-1-1 00:00:00. The first value is assumed to be the year hence will be padded with zeros to remove the ambiguity (the padded reference date string is: 0001-1-1 00:00:00). To remove this message, remove the ambiguity by padding your reference date strings with zeros.\n",
      "  warnings.warn(warning_msg, SerializationWarning)\n",
      "/home/a/a270229/.conda/envs/mypython/lib/python3.10/site-packages/xarray/coding/times.py:170: SerializationWarning: Ambiguous reference date string: 0-0-64 00:00:00. The first value is assumed to be the year hence will be padded with zeros to remove the ambiguity (the padded reference date string is: 0000-0-64 00:00:00). To remove this message, remove the ambiguity by padding your reference date strings with zeros.\n",
      "  warnings.warn(warning_msg, SerializationWarning)\n"
     ]
    },
    {
     "name": "stdout",
     "output_type": "stream",
     "text": [
      "GLB rr1 0.9351832235290272 0.8123917771757719\n",
      "GLB rr10 0.8524944680421884 0.6663729511412448\n",
      "GLB cdd 0.9112711746891313 0.7705247811682793\n",
      "GLB cwd 0.8098118564266241 0.6297156929474776\n",
      "GLB fd 0.9802266377391544 0.9654599198468089\n",
      "GLB tr 0.9849104048569551 0.970523102237382\n",
      "GLB txn 0.9960482081793843 0.9922376264189521\n",
      "GLB txx 0.9962878334257584 0.9907039784346399\n",
      "GLB tnn 0.9955033237821398 0.9898736828442354\n",
      "GLB tnx 0.9962239360749925 0.9924399484985398\n",
      "CPU times: user 7min 6s, sys: 6min 14s, total: 13min 21s\n",
      "Wall time: 16min 57s\n"
     ]
    }
   ],
   "source": [
    "%%time\n",
    "\n",
    "for i, region in enumerate(regions):\n",
    "    for j, index in enumerate(indices):\n",
    "        fmod = f\"{pmod}{index}_2018-2023_{region}.nc\"\n",
    "        fawi = f\"{pawi}{index}_2018-2023_{region}.nc\"\n",
    "        fobs = f\"{pobs}{index}_2018-2023_{region}.nc\"\n",
    "\n",
    "        try:\n",
    "            fmod_ds = xr.open_dataset(fmod, decode_times=False)\n",
    "            fawi_ds = xr.open_dataset(fawi, decode_times=False)\n",
    "            fobs_ds = xr.open_dataset(fobs, decode_times=False)\n",
    "            \n",
    "            modvar = find_variable(fmod_ds)\n",
    "            awivar = find_variable(fawi_ds)\n",
    "            obsvar = find_variable(fobs_ds)\n",
    "            \n",
    "            if modvar :\n",
    "                dtmod = fmod_ds[modvar]\n",
    "                dtawi = fawi_ds[awivar]\n",
    "                dtobs = fobs_ds[obsvar]\n",
    "\n",
    "                if 'height' in dtmod.dims:\n",
    "                    dtmod = dtmod.isel(height=0) #.drop_dims('height')\n",
    "\n",
    "                dttp = calculate_correlation(dtmod,dtobs).mean().values\n",
    "                dtbt = calculate_correlation(dtawi,dtobs).mean().values\n",
    "                \n",
    "                data_top_pcor[i, j] = dttp\n",
    "                data_bot_pcor[i, j] = dtbt\n",
    "                print(region, index, dttp, dtbt)\n",
    "\n",
    "            else:\n",
    "                print(f\"No matching variable found for {index} in {region}\")\n",
    "        except Exception as e:\n",
    "            print(f\"Error processing {index} in {region}: {e}\")"
   ]
  },
  {
   "cell_type": "code",
   "execution_count": null,
   "id": "3768ddb3-4dde-406d-b21d-45ac14eef1ec",
   "metadata": {},
   "outputs": [],
   "source": []
  },
  {
   "cell_type": "code",
   "execution_count": null,
   "id": "b20dfc75-0244-4375-9c4f-4f07f2e3c553",
   "metadata": {},
   "outputs": [],
   "source": []
  },
  {
   "cell_type": "markdown",
   "id": "726de187-b4ea-46ec-b8dd-e55f6c03ebb4",
   "metadata": {},
   "source": [
    "# Plotting"
   ]
  },
  {
   "cell_type": "code",
   "execution_count": null,
   "id": "11195107-300f-49c1-8d3d-b4011bb31d9e",
   "metadata": {},
   "outputs": [],
   "source": []
  },
  {
   "cell_type": "code",
   "execution_count": 15,
   "id": "72b9940a-5162-4d25-81a0-abb85972b611",
   "metadata": {},
   "outputs": [],
   "source": [
    "data_top1 = data_top_rmse \n",
    "data_bot1 = data_bot_rmse\n",
    "\n",
    "data_top2 = data_top_pcor\n",
    "data_bot2 = data_bot_pcor"
   ]
  },
  {
   "cell_type": "code",
   "execution_count": 31,
   "id": "bd9245f1-f773-41cd-a67f-788012e0f0c9",
   "metadata": {},
   "outputs": [
    {
     "name": "stderr",
     "output_type": "stream",
     "text": [
      "/tmp/ipykernel_3764425/1394750125.py:113: UserWarning: This figure includes Axes that are not compatible with tight_layout, so results might be incorrect.\n",
      "  plt.tight_layout(rect=[0, 0.1, 1, 0.95])  # Adjust layout to make room for colorbar\n"
     ]
    },
    {
     "data": {
      "image/png": "[encoded data removed]",
      "text/plain": [
       "<Figure size 1200x600 with 5 Axes>"
      ]
     },
     "metadata": {},
     "output_type": "display_data"
    }
   ],
   "source": [
    "# # Create Figure two colorbars\n",
    "# fig, axes = plt.subplots(1, 2, figsize=(12, 6))  # Two subplots\n",
    "# ax1, ax2 = axes  # Assign axes handles\n",
    "\n",
    "# triangle_patches1 = []  # Stores all triangle patches for the first plot\n",
    "# colors1 = []   # Stores color values for each triangle\n",
    "\n",
    "# triangle_patches2 = []  # Stores all triangle patches for the second plot\n",
    "# colors2 = []   # Stores color values for each triangle\n",
    "\n",
    "# # Define common grid for both heatmaps\n",
    "# for i in range(num_regions):\n",
    "#     for j in range(num_indices):\n",
    "#         x, y = j, i  # Grid coordinates\n",
    "\n",
    "#         # Define triangles\n",
    "#         top_triangle = [(x, y), (x, y + 1), (x + 1, y + 1)]\n",
    "#         bottom_triangle = [(x, y), (x + 1, y + 1), (x + 1, y)]\n",
    "\n",
    "#         # First Heatmap Data\n",
    "#         triangle_patches1.append(Polygon(top_triangle, closed=True))\n",
    "#         triangle_patches1.append(Polygon(bottom_triangle, closed=True))\n",
    "#         colors1.append(data_top1[i, j])\n",
    "#         colors1.append(data_bot1[i, j])\n",
    "\n",
    "#         # Second Heatmap Data\n",
    "#         triangle_patches2.append(Polygon(top_triangle, closed=True))\n",
    "#         triangle_patches2.append(Polygon(bottom_triangle, closed=True))\n",
    "#         colors2.append(data_top2[i, j])\n",
    "#         colors2.append(data_bot2[i, j])\n",
    "\n",
    "# # Define color boundaries and colormap for the FIRST heatmap\n",
    "# bounds1 = np.arange(0, 10.5, 0.5)  # Example range - Adjust as needed\n",
    "# cmap1 = plt.get_cmap('YlGnBu', len(bounds1) - 1)  # Discrete colormap for the first plot\n",
    "# norm1 = BoundaryNorm(bounds1, cmap1.N)\n",
    "\n",
    "# # Create patch collection for the first heatmap\n",
    "# collection1 = PatchCollection(triangle_patches1, edgecolor='black', linewidth=0.05, cmap=cmap1, norm=norm1)\n",
    "# collection1.set_array(np.array(colors1))\n",
    "# collection1.set_clim(bounds1[0], bounds1[-1])\n",
    "\n",
    "# ax1.add_collection(collection1)\n",
    "# ax1.set_title('a) RMSE', fontsize=12, loc='left')\n",
    "# ax1.set_xticks(np.arange(num_indices) + 0.5)\n",
    "# # ax1.set_xticklabels(indices, rotation=45, ha=\"right\", fontsize=9)\n",
    "# ax1.set_xticklabels([i.upper() for i in indices], rotation=45, ha=\"right\", fontsize=9)\n",
    "# ax1.set_yticks(np.arange(num_regions) + 0.5)\n",
    "# ax1.set_yticklabels(regions, fontsize=10)  # Reverse the order of regions\n",
    "# ax1.set_xlim(0, num_indices)\n",
    "# ax1.set_ylim(0, num_regions)\n",
    "# # ax1.invert_yaxis()\n",
    "\n",
    "# # Define color boundaries and colormap for the SECOND heatmap\n",
    "# bounds2 = np.arange(0, 1.05, 0.05)  # Example range - Adjust as needed\n",
    "# cmap2 = plt.get_cmap('YlGnBu_r', len(bounds2) - 1)  # Discrete colormap for the second plot\n",
    "# norm2 = BoundaryNorm(bounds2, cmap2.N)\n",
    "\n",
    "# # Create patch collection for the second heatmap\n",
    "# collection2 = PatchCollection(triangle_patches2, edgecolor='black', linewidth=0.05, cmap=cmap2, norm=norm2)\n",
    "# collection2.set_array(np.array(colors2))\n",
    "# collection2.set_clim(bounds2[0], bounds2[-1])\n",
    "\n",
    "# ax2.add_collection(collection2)\n",
    "# ax2.set_title('b) Correlation', fontsize=12, loc='left')\n",
    "# ax2.set_xticks(np.arange(num_indices) + 0.5)\n",
    "# # ax2.set_xticklabels(indices, rotation=45, ha=\"right\", fontsize=9)\n",
    "# ax2.set_xticklabels([i.upper() for i in indices], rotation=45, ha=\"right\", fontsize=9)\n",
    "# ax2.set_yticks(np.arange(num_regions) + 0.5)\n",
    "# ax2.set_yticklabels([]) #  Remove row labels for the second heatmap\n",
    "# ax2.set_xlim(0, num_indices)\n",
    "# ax2.set_ylim(0, num_regions)\n",
    "# # ax2.invert_yaxis()\n",
    "\n",
    "# # Add Colorbar for the FIRST heatmap\n",
    "# cbar_ax1 = fig.add_axes([0.1, -0.01, 0.8, 0.03])  # Position: [left, bottom, width, height]\n",
    "# cbar1 = plt.colorbar(collection1, cax=cbar_ax1, orientation=\"horizontal\", ticks=bounds1, extend='max')\n",
    "# cbar1.set_label(\"RMSE\", fontsize=10)\n",
    "# cbar1.ax.xaxis.set_ticks_position('top')  # Move ticks to the top\n",
    "# cbar1.ax.xaxis.set_label_position('top')  # Move label to the top\n",
    "# cbar1.ax.tick_params(axis='x', pad=5)\n",
    "\n",
    "# # Add Legend to the right of the colorbar\n",
    "# legend_ax = fig.add_axes([0.92, -0.02, 0.1, 0.1])  # [left, bottom, width, height]\n",
    "# legend_ax.axis('off')  # Turn off axes for the legend\n",
    "\n",
    "# # Draw the rectangle\n",
    "# rect_x = 0.1  # Starting x-coordinate\n",
    "# rect_y = 0.2  # Starting y-coordinate\n",
    "# rect_width = 0.31 # Width of the rectangle\n",
    "# rect_height = 0.8  # Height of the rectangle\n",
    "# rect = mpl_patches.Rectangle((rect_x, rect_y), rect_width, rect_height, linewidth=1, edgecolor='black', facecolor='white', transform=legend_ax.transAxes)\n",
    "# legend_ax.add_patch(rect)\n",
    "\n",
    "# # Draw the diagonal line\n",
    "# line_start_x = rect_x\n",
    "# line_start_y = rect_y\n",
    "# line_end_x = rect_x + rect_width\n",
    "# line_end_y = rect_y + rect_height\n",
    "# line = plt.Line2D([line_start_x, line_end_x], [line_start_y, line_end_y], transform=legend_ax.transAxes, linewidth=1.0, color='black')\n",
    "# legend_ax.add_line(line)\n",
    "\n",
    "# # Add text labels\n",
    "# legend_ax.text(0.25, 1.0, 'IFS-FESOM', ha='center', va='bottom', fontsize=8, transform=legend_ax.transAxes)\n",
    "# legend_ax.text(0.25, 0.15, 'AWI-CM1', ha='center', va='top', fontsize=8, transform=legend_ax.transAxes)\n",
    "\n",
    "\n",
    "# # Add Colorbar for the SECOND heatmap\n",
    "# cbar_ax2 = fig.add_axes([0.1, -0.05, 0.8, 0.03])  # Position: [left, bottom, width, height]\n",
    "# cbar2 = plt.colorbar(collection2, cax=cbar_ax2, orientation=\"horizontal\", ticks=bounds2, extend='min')\n",
    "# cbar2.set_label(\"Correlation\", fontsize=10)\n",
    "\n",
    "\n",
    "# plt.tight_layout(rect=[0, 0.1, 1, 0.95])  # Adjust layout to make room for colorbar\n",
    "# # plt.savefig(f'{plotpath}/rmse_corr_portain_2xcbar.png', dpi=500, bbox_inches='tight')\n",
    "# plt.show()\n"
   ]
  },
  {
   "cell_type": "code",
   "execution_count": 5,
   "id": "0596a9fe-48a4-4ffe-9419-62622ab8662e",
   "metadata": {},
   "outputs": [
    {
     "ename": "NameError",
     "evalue": "name 'data_top1' is not defined",
     "output_type": "error",
     "traceback": [
      "\u001b[0;31m---------------------------------------------------------------------------\u001b[0m",
      "\u001b[0;31mNameError\u001b[0m                                 Traceback (most recent call last)",
      "Cell \u001b[0;32mIn[5], line 23\u001b[0m\n\u001b[1;32m     21\u001b[0m triangle_patches1\u001b[38;5;241m.\u001b[39mappend(Polygon(top_triangle, closed\u001b[38;5;241m=\u001b[39m\u001b[38;5;28;01mTrue\u001b[39;00m))\n\u001b[1;32m     22\u001b[0m triangle_patches1\u001b[38;5;241m.\u001b[39mappend(Polygon(bottom_triangle, closed\u001b[38;5;241m=\u001b[39m\u001b[38;5;28;01mTrue\u001b[39;00m))\n\u001b[0;32m---> 23\u001b[0m colors1\u001b[38;5;241m.\u001b[39mappend(\u001b[43mdata_top1\u001b[49m[i, j])\n\u001b[1;32m     24\u001b[0m colors1\u001b[38;5;241m.\u001b[39mappend(data_bot1[i, j])\n\u001b[1;32m     26\u001b[0m \u001b[38;5;66;03m# Second Heatmap Data\u001b[39;00m\n",
      "\u001b[0;31mNameError\u001b[0m: name 'data_top1' is not defined"
     ]
    },
    {
     "data": {
      "image/png": "[encoded data removed]",
      "text/plain": [
       "<Figure size 1200x600 with 2 Axes>"
      ]
     },
     "metadata": {},
     "output_type": "display_data"
    }
   ],
   "source": [
    "\n",
    "# Create Figure two colorbars\n",
    "fig, axes = plt.subplots(1, 2, figsize=(12, 6))  # Two subplots\n",
    "ax1, ax2 = axes  # Assign axes handles\n",
    "\n",
    "triangle_patches1 = []  # Stores all triangle patches for the first plot\n",
    "colors1 = []   # Stores color values for each triangle\n",
    "\n",
    "triangle_patches2 = []  # Stores all triangle patches for the second plot\n",
    "colors2 = []   # Stores color values for each triangle\n",
    "\n",
    "# Define common grid for both heatmaps\n",
    "for i in range(num_regions):\n",
    "    for j in range(num_indices):\n",
    "        x, y = j, i  # Grid coordinates\n",
    "\n",
    "        # Define triangles\n",
    "        top_triangle = [(x, y), (x, y + 1), (x + 1, y + 1)]\n",
    "        bottom_triangle = [(x, y), (x + 1, y + 1), (x + 1, y)]\n",
    "\n",
    "        # First Heatmap Data\n",
    "        triangle_patches1.append(Polygon(top_triangle, closed=True))\n",
    "        triangle_patches1.append(Polygon(bottom_triangle, closed=True))\n",
    "        colors1.append(data_top1[i, j])\n",
    "        colors1.append(data_bot1[i, j])\n",
    "\n",
    "        # Second Heatmap Data\n",
    "        triangle_patches2.append(Polygon(top_triangle, closed=True))\n",
    "        triangle_patches2.append(Polygon(bottom_triangle, closed=True))\n",
    "        colors2.append(data_top2[i, j])\n",
    "        colors2.append(data_bot2[i, j])\n",
    "\n",
    "# Define color boundaries and colormap for the FIRST heatmap\n",
    "bounds1 = np.arange(0, 10.5, 0.5)  # Example range - Adjust as needed\n",
    "cmap1 = plt.get_cmap('YlGnBu', len(bounds1) - 1)  # Discrete colormap for the first plot\n",
    "norm1 = BoundaryNorm(bounds1, cmap1.N)\n",
    "\n",
    "# Create patch collection for the first heatmap\n",
    "collection1 = PatchCollection(triangle_patches1, edgecolor='black', linewidth=0.05, cmap=cmap1, norm=norm1)\n",
    "collection1.set_array(np.array(colors1))\n",
    "collection1.set_clim(bounds1[0], bounds1[-1])\n",
    "\n",
    "ax1.add_collection(collection1)\n",
    "# ax1.set_title('a) RMSE', fontsize=12, loc='left')\n",
    "ax1.set_xticks(np.arange(num_indices) + 0.5)\n",
    "ax1.set_xticklabels(indices, rotation=45, ha=\"right\", fontsize=9)\n",
    "# ax1.set_xticklabels([i.upper() for i in indices], rotation=45, ha=\"right\", fontsize=9)\n",
    "ax1.set_yticks(np.arange(num_regions) + 0.5)\n",
    "ax1.set_yticklabels(regions, fontsize=10)  # Reverse the order of regions\n",
    "ax1.set_xlim(0, num_indices)\n",
    "ax1.set_ylim(0, num_regions)\n",
    "# ax1.invert_yaxis()\n",
    "\n",
    "# Define color boundaries and colormap for the SECOND heatmap\n",
    "bounds2 = np.arange(0, 1.05, 0.05)  # Example range - Adjust as needed\n",
    "cmap2 = plt.get_cmap('YlGnBu_r', len(bounds2) - 1)  # Discrete colormap for the second plot\n",
    "norm2 = BoundaryNorm(bounds2, cmap2.N)\n",
    "\n",
    "# Create patch collection for the second heatmap\n",
    "collection2 = PatchCollection(triangle_patches2, edgecolor='black', linewidth=0.05, cmap=cmap2, norm=norm2)\n",
    "collection2.set_array(np.array(colors2))\n",
    "collection2.set_clim(bounds2[0], bounds2[-1])\n",
    "\n",
    "ax2.add_collection(collection2)\n",
    "# ax2.set_title('b) Correlation', fontsize=12, loc='left')\n",
    "ax2.set_xticks(np.arange(num_indices) + 0.5)\n",
    "ax2.set_xticklabels(indices, rotation=45, ha=\"right\", fontsize=9)\n",
    "# ax2.set_xticklabels([i.upper() for i in indices], rotation=45, ha=\"right\", fontsize=9) # for caps\n",
    "ax2.set_yticks(np.arange(num_regions) + 0.5)\n",
    "ax2.set_yticklabels([]) #  Remove row labels for the second heatmap\n",
    "ax2.set_xlim(0, num_indices)\n",
    "ax2.set_ylim(0, num_regions)\n",
    "# ax2.invert_yaxis()\n",
    "\n",
    "# Add Colorbar for the FIRST heatmap\n",
    "cbar_ax1 = fig.add_axes([0.1, -0.01, 0.8, 0.03])  # Position: [left, bottom, width, height]\n",
    "cbar1 = plt.colorbar(collection1, cax=cbar_ax1, orientation=\"horizontal\", ticks=bounds1, extend='max')\n",
    "cbar1.set_label(\"RMSE\", fontsize=10)\n",
    "cbar1.ax.xaxis.set_ticks_position('top')  # Move ticks to the top\n",
    "cbar1.ax.xaxis.set_label_position('top')  # Move label to the top\n",
    "cbar1.ax.tick_params(axis='x', pad=5)\n",
    "\n",
    "# Add Legend to the right of the colorbar\n",
    "legend_ax = fig.add_axes([0.92, -0.02, 0.1, 0.1])  # [left, bottom, width, height]\n",
    "legend_ax.axis('off')  # Turn off axes for the legend\n",
    "\n",
    "# Draw the rectangle\n",
    "rect_x = 0.1  # Starting x-coordinate\n",
    "rect_y = 0.2  # Starting y-coordinate\n",
    "rect_width = 0.31 # Width of the rectangle\n",
    "rect_height = 0.8  # Height of the rectangle\n",
    "rect = mpl_patches.Rectangle((rect_x, rect_y), rect_width, rect_height, linewidth=1, edgecolor='black', facecolor='white', transform=legend_ax.transAxes)\n",
    "legend_ax.add_patch(rect)\n",
    "\n",
    "# Draw the diagonal line\n",
    "line_start_x = rect_x\n",
    "line_start_y = rect_y\n",
    "line_end_x = rect_x + rect_width\n",
    "line_end_y = rect_y + rect_height\n",
    "line = plt.Line2D([line_start_x, line_end_x], [line_start_y, line_end_y], transform=legend_ax.transAxes, linewidth=1.0, color='black')\n",
    "legend_ax.add_line(line)\n",
    "\n",
    "# Add text labels\n",
    "legend_ax.text(0.25, 1.0, 'IFS-FESOM', ha='center', va='bottom', fontsize=8, transform=legend_ax.transAxes)\n",
    "legend_ax.text(0.25, 0.15, 'AWI-CM1', ha='center', va='top', fontsize=8, transform=legend_ax.transAxes)\n",
    "\n",
    "\n",
    "# Add Colorbar for the SECOND heatmap\n",
    "cbar_ax2 = fig.add_axes([0.1, -0.05, 0.8, 0.03])  # Position: [left, bottom, width, height]\n",
    "cbar2 = plt.colorbar(collection2, cax=cbar_ax2, orientation=\"horizontal\", ticks=bounds2, extend='min')\n",
    "cbar2.set_label(\"Correlation\", fontsize=10)\n",
    "\n",
    "# --- Additions for index category boxes ---\n",
    "temperature_indices = [\"FD\", \"TR\", \"TXN\", \"TXX\", \"TNN\", \"TNX\"]\n",
    "precipitation_indices = [\"SDII\", \"RX1DAY\", \"RR1\", \"RR10\", \"CDD\", \"CWD\"]\n",
    "\n",
    "# Draw rectangles and text labels above x-axis labels\n",
    "# ax1.text(np.mean([0, len(precipitation_indices)]), 6.25, \"    Precipitation    \", ha='center', va='center', fontsize=10, bbox=dict(facecolor='none', edgecolor='darkred', boxstyle='square,pad=0.3'))\n",
    "# ax1.text(np.mean([len(precipitation_indices), num_indices]),6.25, \"Temperature\", ha='center', va='center', fontsize=10, bbox=dict(facecolor='none', edgecolor='darkred', boxstyle='round,pad=0.3'))\n",
    "\n",
    "ax1.text(2.99, 6.18, \"            Precipitation Indices              \", ha='center', va='center', fontsize=10, color='k', alpha=0.7,  bbox=dict(facecolor='none', edgecolor='grey', boxstyle='square,pad=0.3', linestyle='solid'))\n",
    "ax1.text(9,6.18, \"           Temperature Indices               \", ha='center', va='center', fontsize=10, color='k', alpha=0.7, bbox=dict(facecolor='none', edgecolor='grey', boxstyle='square,pad=0.3', linestyle='solid'))\n",
    "ax1.text(0.7, 6.6, \"a) RMSE\", ha='center', va='center', fontsize=12)\n",
    "ax1.axvline(x=6, color='grey', linestyle='-', linewidth=1.5)\n",
    "\n",
    "# ax1.text(2.8, 6.18, \"              Precipitation Based              \", ha='center', va='center', fontsize=10, color='grey', bbox=dict(facecolor='none', edgecolor='grey', boxstyle='square,pad=0.3', linestyle='solid'))\n",
    "# ax1.text(9,6.18, \"                 Temperature                     \", ha='center', va='center', fontsize=10, color='grey', bbox=dict(facecolor='none', edgecolor='grey', boxstyle='square,pad=0.3', linestyle='solid'))\n",
    "# ax1.text(0.7, 6.6, \"a) RMSE\", ha='center', va='center', fontsize=12)\n",
    "\n",
    "\n",
    "ax2.text(2.99, 6.18, \"                  Precipitation                    \", ha='center', va='center', fontsize=10, color='k', alpha=0.7, bbox=dict(facecolor='none', edgecolor='grey', boxstyle='square,pad=0.3', linestyle='solid'))\n",
    "ax2.text(9,6.18, \"                 Temperature                     \", ha='center', va='center', fontsize=10, color='k', alpha=0.7, bbox=dict(facecolor='none', edgecolor='grey', boxstyle='square,pad=0.3', linestyle='solid'))\n",
    "ax2.text(1.3, 6.6, \"b) Correlation\", ha='center', va='center', fontsize=12)\n",
    "ax2.axvline(x=6, color='grey', linestyle='-', linewidth=1.5)\n",
    "\n",
    "plt.tight_layout(rect=[0, 0.1, 1, 0.95])\n",
    "\n",
    "# --- End of additions ---\n",
    "# Your original code for data and plot creation goes here\n",
    "# plt.savefig(f'{plotpath}/F6.png', dpi=500, bbox_inches='tight')\n",
    "\n",
    "plt.show()\n"
   ]
  },
  {
   "cell_type": "code",
   "execution_count": null,
   "id": "1fafd940-b25d-4550-9000-aa05b6b2be6c",
   "metadata": {},
   "outputs": [],
   "source": []
  },
  {
   "cell_type": "code",
   "execution_count": null,
   "id": "5040cc5a-3c8f-4dee-9f5f-db5205bea48e",
   "metadata": {},
   "outputs": [],
   "source": []
  }
 ],
 "metadata": {
  "kernelspec": {
   "display_name": "mypython",
   "language": "python",
   "name": "mypython"
  },
  "language_info": {
   "codemirror_mode": {
    "name": "ipython",
    "version": 3
   },
   "file_extension": ".py",
   "mimetype": "text/x-python",
   "name": "python",
   "nbconvert_exporter": "python",
   "pygments_lexer": "ipython3",
   "version": "3.10.10"
  }
 },
 "nbformat": 4,
 "nbformat_minor": 5
}
